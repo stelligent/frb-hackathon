{
 "cells": [
  {
   "cell_type": "code",
   "execution_count": 2,
   "metadata": {},
   "outputs": [],
   "source": [
    "key_id = '<<>>'\n",
    "secret_key = '<<>>'"
   ]
  },
  {
   "cell_type": "code",
   "execution_count": null,
   "metadata": {},
   "outputs": [],
   "source": [
    "import boto3\n",
    "def comprehend_api_sentiment(string,key_id,secret_key):\n",
    "    client = boto3.client('comprehend', aws_access_key_id = key_id, aws_secret_access_key = secret_key)\n",
    "    response = client.detect_sentiment(Text = string, LanguageCode = 'en')\n",
    "    return response"
   ]
  },
  {
   "cell_type": "code",
   "execution_count": 3,
   "metadata": {},
   "outputs": [],
   "source": [
    "def comprehend_api_classify(string,key_id,secret_key):\n",
    "    client = boto3.client('comprehend', aws_access_key_id = key_id, aws_secret_access_key = secret_key)\n",
    "    response = client.classify_document(Text=string, EndpointArn='arn:aws:comprehend:us-east-2:786796469737:document-classifier-endpoint/finstmt-auditor')\n",
    "    return response"
   ]
  },
  {
   "cell_type": "code",
   "execution_count": 4,
   "metadata": {},
   "outputs": [],
   "source": [
    "def comprehend_api_entities(string,key_id,secret_key):\n",
    "    client = boto3.client('comprehend', aws_access_key_id = key_id, aws_secret_access_key = secret_key)\n",
    "    response = client.detect_entities(Text=string, LanguageCode = 'en')\n",
    "    return response"
   ]
  },
  {
   "cell_type": "markdown",
   "metadata": {},
   "source": [
    "# Sentiment"
   ]
  },
  {
   "cell_type": "code",
   "execution_count": 7,
   "metadata": {},
   "outputs": [
    {
     "data": {
      "text/plain": [
       "{'Sentiment': 'NEGATIVE',\n",
       " 'SentimentScore': {'Positive': 0.12709932029247284,\n",
       "  'Negative': 0.4827170670032501,\n",
       "  'Neutral': 0.3885166645050049,\n",
       "  'Mixed': 0.0016669268952682614},\n",
       " 'ResponseMetadata': {'RequestId': 'aeaacb73-490f-4968-b760-9715c7a6206d',\n",
       "  'HTTPStatusCode': 200,\n",
       "  'HTTPHeaders': {'x-amzn-requestid': 'aeaacb73-490f-4968-b760-9715c7a6206d',\n",
       "   'content-type': 'application/x-amz-json-1.1',\n",
       "   'content-length': '163',\n",
       "   'date': 'Thu, 05 Dec 2019 17:35:14 GMT'},\n",
       "  'RetryAttempts': 0}}"
      ]
     },
     "execution_count": 7,
     "metadata": {},
     "output_type": "execute_result"
    }
   ],
   "source": [
    "string = 'All the key economic indicators have been on a downward swing for quite some time. If this slide is not checked India may slip into recession sooner than later'\n",
    "r = comprehend_api_sentiment(string, key_id,secret_key)\n",
    "r"
   ]
  },
  {
   "cell_type": "code",
   "execution_count": null,
   "metadata": {},
   "outputs": [],
   "source": [
    "string = 'We are excited to celebrate 10 strong and successful years of LinkedIn in India, a decade of connecting India\\'s professionals to diverse opportunities. It has been an exciting journey to see the platform, the member base, and our teams grow from strength to strength'\n",
    "r = comprehend_api_sentiment(string, key_id,secret_key)\n",
    "r"
   ]
  },
  {
   "cell_type": "code",
   "execution_count": null,
   "metadata": {},
   "outputs": [],
   "source": [
    "string = 'Many HDFC Bank Ltd customers could not access their account information through the net banking and mobile banking portals for the second day on Tuesday due to a technical glitch.'\n",
    "r = comprehend_api_sentiment(string, key_id,secret_key)\n",
    "r"
   ]
  },
  {
   "cell_type": "markdown",
   "metadata": {},
   "source": [
    "# Entity Recognition"
   ]
  },
  {
   "cell_type": "code",
   "execution_count": 5,
   "metadata": {},
   "outputs": [
    {
     "data": {
      "text/plain": [
       "{'Entities': [{'Score': 0.998846709728241,\n",
       "   'Type': 'ORGANIZATION',\n",
       "   'Text': 'Audit Committee',\n",
       "   'BeginOffset': 4,\n",
       "   'EndOffset': 19},\n",
       "  {'Score': 0.9999995231628418,\n",
       "   'Type': 'ORGANIZATION',\n",
       "   'Text': 'PricewaterhouseCoopers LLP',\n",
       "   'BeginOffset': 34,\n",
       "   'EndOffset': 60},\n",
       "  {'Score': 0.9902089238166809,\n",
       "   'Type': 'DATE',\n",
       "   'Text': 'December 31, 2015',\n",
       "   'BeginOffset': 134,\n",
       "   'EndOffset': 151}],\n",
       " 'ResponseMetadata': {'RequestId': 'a00d1611-c05d-41d7-a5f6-988dd34855b6',\n",
       "  'HTTPStatusCode': 200,\n",
       "  'HTTPHeaders': {'x-amzn-requestid': 'a00d1611-c05d-41d7-a5f6-988dd34855b6',\n",
       "   'content-type': 'application/x-amz-json-1.1',\n",
       "   'content-length': '343',\n",
       "   'date': 'Thu, 05 Dec 2019 17:33:35 GMT'},\n",
       "  'RetryAttempts': 0}}"
      ]
     },
     "execution_count": 5,
     "metadata": {},
     "output_type": "execute_result"
    }
   ],
   "source": [
    "string = 'Our Audit Committee has appointed PricewaterhouseCoopers LLP as our independent registered public accounting firm for the year ending December 31, 2015.'\n",
    "r = comprehend_api_entities(string, key_id,secret_key)\n",
    "r"
   ]
  },
  {
   "cell_type": "code",
   "execution_count": 6,
   "metadata": {},
   "outputs": [
    {
     "data": {
      "text/plain": [
       "{'Entities': [{'Score': 0.9996688365936279,\n",
       "   'Type': 'ORGANIZATION',\n",
       "   'Text': 'D&T',\n",
       "   'BeginOffset': 108,\n",
       "   'EndOffset': 111}],\n",
       " 'ResponseMetadata': {'RequestId': 'a06adc67-514b-4c73-9bb0-404fcfde752d',\n",
       "  'HTTPStatusCode': 200,\n",
       "  'HTTPHeaders': {'x-amzn-requestid': 'a06adc67-514b-4c73-9bb0-404fcfde752d',\n",
       "   'content-type': 'application/x-amz-json-1.1',\n",
       "   'content-length': '112',\n",
       "   'date': 'Thu, 05 Dec 2019 17:33:39 GMT'},\n",
       "  'RetryAttempts': 0}}"
      ]
     },
     "execution_count": 6,
     "metadata": {},
     "output_type": "execute_result"
    }
   ],
   "source": [
    "string = 'Although ratification is not required by our By-Laws or otherwise, the Board is submitting the selection of D&T to our shareholders for ratification as a matter of good corporate practice.'\n",
    "r = comprehend_api_entities(string, key_id,secret_key)\n",
    "r"
   ]
  },
  {
   "cell_type": "code",
   "execution_count": null,
   "metadata": {},
   "outputs": [],
   "source": []
  }
 ],
 "metadata": {
  "kernelspec": {
   "display_name": "conda_python3",
   "language": "python",
   "name": "conda_python3"
  },
  "language_info": {
   "codemirror_mode": {
    "name": "ipython",
    "version": 3
   },
   "file_extension": ".py",
   "mimetype": "text/x-python",
   "name": "python",
   "nbconvert_exporter": "python",
   "pygments_lexer": "ipython3",
   "version": "3.6.5"
  }
 },
 "nbformat": 4,
 "nbformat_minor": 2
}
